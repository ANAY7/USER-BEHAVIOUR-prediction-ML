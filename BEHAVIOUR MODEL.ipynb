{
  "metadata": {
    "kernelspec": {
      "language": "python",
      "display_name": "Python 3",
      "name": "python3"
    },
    "language_info": {
      "name": "python",
      "version": "3.7.12",
      "mimetype": "text/x-python",
      "codemirror_mode": {
        "name": "ipython",
        "version": 3
      },
      "pygments_lexer": "ipython3",
      "nbconvert_exporter": "python",
      "file_extension": ".py"
    },
    "colab": {
      "provenance": []
    }
  },
  "nbformat_minor": 0,
  "nbformat": 4,
  "cells": [
    {
      "cell_type": "code",
      "source": [
        "import warnings\n",
        "warnings.filterwarnings(\"ignore\")\n",
        "import pandas as pd\n",
        "import numpy as np\n",
        "import matplotlib.pyplot as plt\n",
        "from sklearn.model_selection import train_test_split\n",
        "from sklearn.preprocessing import LabelEncoder, OneHotEncoder\n",
        "from sklearn.impute import SimpleImputer\n",
        "from sklearn.pipeline import Pipeline\n",
        "from sklearn.compose import ColumnTransformer\n",
        "from sklearn.preprocessing import StandardScaler\n",
        "\n",
        "from sklearn.metrics import accuracy_score, confusion_matrix, classification_report\n",
        "from sklearn.metrics import f1_score\n",
        "from sklearn.metrics import precision_recall_fscore_support as score\n",
        "\n",
        "from sklearn.ensemble import GradientBoostingClassifier, RandomForestClassifier\n",
        "from xgboost import XGBClassifier\n",
        "\n",
        "from sklearn.model_selection import RepeatedStratifiedKFold\n",
        "from sklearn.model_selection import GridSearchCV, RandomizedSearchCV\n"
      ],
      "metadata": {
        "execution": {
          "iopub.status.busy": "2023-01-15T16:11:46.713604Z",
          "iopub.execute_input": "2023-01-15T16:11:46.714393Z",
          "iopub.status.idle": "2023-01-15T16:11:46.721643Z",
          "shell.execute_reply.started": "2023-01-15T16:11:46.714340Z",
          "shell.execute_reply": "2023-01-15T16:11:46.720725Z"
        },
        "trusted": true,
        "id": "qN3sVeTzl3x2"
      },
      "execution_count": 4,
      "outputs": []
    },
    {
      "cell_type": "code",
      "source": [
        "given_train_data = pd.read_csv(\"/content/train_data.csv\")  # copy file path and paste it\n",
        "given_test_data = pd.read_csv(\"/content/test_data.csv\")\n",
        "given_train_data.head(10)"
      ],
      "metadata": {
        "execution": {
          "iopub.status.busy": "2023-01-15T16:11:46.775190Z",
          "iopub.execute_input": "2023-01-15T16:11:46.776064Z",
          "iopub.status.idle": "2023-01-15T16:11:46.910032Z",
          "shell.execute_reply.started": "2023-01-15T16:11:46.776032Z",
          "shell.execute_reply": "2023-01-15T16:11:46.908814Z"
        },
        "trusted": true,
        "id": "Dv3jQ8Hrl3x6",
        "outputId": "77224d1c-3e4e-403a-abb7-bdc4a09e47a0",
        "colab": {
          "base_uri": "https://localhost:8080/",
          "height": 699
        }
      },
      "execution_count": 5,
      "outputs": [
        {
          "output_type": "execute_result",
          "data": {
            "text/plain": [
              "  offer expiration      income_range no_visited_Cold drinks  \\\n",
              "0            2days   ₹100000 or More                    4~8   \n",
              "1            2days   ₹87500 - ₹99999                    4~8   \n",
              "2            2days   ₹87500 - ₹99999                  less1   \n",
              "3          10hours   ₹37500 - ₹49999                  less1   \n",
              "4            2days   ₹100000 or More                  never   \n",
              "5          10hours  Less than ₹12500                    4~8   \n",
              "6            2days  Less than ₹12500                  less1   \n",
              "7            2days   ₹50000 - ₹62499                  never   \n",
              "8          10hours   ₹12500 - ₹24999                  less1   \n",
              "9          10hours   ₹75000 - ₹87499                    4~8   \n",
              "\n",
              "   travelled_more_than_15mins_for_offer Restaur_spend_less_than20  \\\n",
              "0                                     1                     less1   \n",
              "1                                     0                       4~8   \n",
              "2                                     1                       1~3   \n",
              "3                                     0                       1~3   \n",
              "4                                     1                       1~3   \n",
              "5                                     1                       gt8   \n",
              "6                                     1                       1~3   \n",
              "7                                     1                       1~3   \n",
              "8                                     1                     less1   \n",
              "9                                     1                       1~3   \n",
              "\n",
              "    Marital Status       restaurant type      age  \\\n",
              "0  Married partner     4 star restaurant       36   \n",
              "1  Married partner  Take-away restaurant   50plus   \n",
              "2           Single           Cold drinks       26   \n",
              "3           Single  Take-away restaurant       46   \n",
              "4           Single     4 star restaurant       21   \n",
              "5         Divorced  Take-away restaurant   50plus   \n",
              "6           Single           Cold drinks  below21   \n",
              "7  Married partner   Restaurant with pub   50plus   \n",
              "8           Single   Restaurant with pub       41   \n",
              "9  Married partner     4 star restaurant       41   \n",
              "\n",
              "   Prefer western over chinese  travelled_more_than_25mins_for_offer  ...  \\\n",
              "0                            0                                     0  ...   \n",
              "1                            0                                     0  ...   \n",
              "2                            1                                     0  ...   \n",
              "3                            1                                     0  ...   \n",
              "4                            0                                     1  ...   \n",
              "5                            1                                     0  ...   \n",
              "6                            0                                     0  ...   \n",
              "7                            0                                     0  ...   \n",
              "8                            1                                     0  ...   \n",
              "9                            1                                     0  ...   \n",
              "\n",
              "   restuarant_opposite_direction_house has Children  \\\n",
              "0                                    0            0   \n",
              "1                                    0            1   \n",
              "2                                    1            1   \n",
              "3                                    0            1   \n",
              "4                                    1            0   \n",
              "5                                    1            0   \n",
              "6                                    0            0   \n",
              "7                                    1            1   \n",
              "8                                    1            1   \n",
              "9                                    1            1   \n",
              "\n",
              "  visit restaurant with rating (avg) temperature  \\\n",
              "0                                  4          67   \n",
              "1                                  3          89   \n",
              "2                                  4          67   \n",
              "3                                  3          89   \n",
              "4                                  3          40   \n",
              "5                                  0          40   \n",
              "6                                  0          89   \n",
              "7                                  0          40   \n",
              "8                                  1          89   \n",
              "9                                  0          67   \n",
              "\n",
              "   Restaur_spend_greater_than20  Travel Time Climate drop location  \\\n",
              "0                         less1           22  Spring    Location B   \n",
              "1                           1~3           18  Summer    Location B   \n",
              "2                         less1            7  Winter    Location A   \n",
              "3                           1~3            7  Summer    Location C   \n",
              "4                         less1            7  Summer    Location C   \n",
              "5                         less1           22  Spring    Location C   \n",
              "6                         never            7  Spring    Location C   \n",
              "7                         less1           10  Summer    Location B   \n",
              "8                         never            7  Summer    Location C   \n",
              "9                         less1           22  Winter    Location B   \n",
              "\n",
              "   Prefer home food Offer Accepted  \n",
              "0                 0             No  \n",
              "1                 0            Yes  \n",
              "2                 1            Yes  \n",
              "3                 0             No  \n",
              "4                 0             No  \n",
              "5                 0            Yes  \n",
              "6                 0            Yes  \n",
              "7                 0             No  \n",
              "8                 0             No  \n",
              "9                 0            Yes  \n",
              "\n",
              "[10 rows x 31 columns]"
            ],
            "text/html": [
              "\n",
              "\n",
              "  <div id=\"df-9f1560e3-ac68-461b-a732-6011484f20b0\">\n",
              "    <div class=\"colab-df-container\">\n",
              "      <div>\n",
              "<style scoped>\n",
              "    .dataframe tbody tr th:only-of-type {\n",
              "        vertical-align: middle;\n",
              "    }\n",
              "\n",
              "    .dataframe tbody tr th {\n",
              "        vertical-align: top;\n",
              "    }\n",
              "\n",
              "    .dataframe thead th {\n",
              "        text-align: right;\n",
              "    }\n",
              "</style>\n",
              "<table border=\"1\" class=\"dataframe\">\n",
              "  <thead>\n",
              "    <tr style=\"text-align: right;\">\n",
              "      <th></th>\n",
              "      <th>offer expiration</th>\n",
              "      <th>income_range</th>\n",
              "      <th>no_visited_Cold drinks</th>\n",
              "      <th>travelled_more_than_15mins_for_offer</th>\n",
              "      <th>Restaur_spend_less_than20</th>\n",
              "      <th>Marital Status</th>\n",
              "      <th>restaurant type</th>\n",
              "      <th>age</th>\n",
              "      <th>Prefer western over chinese</th>\n",
              "      <th>travelled_more_than_25mins_for_offer</th>\n",
              "      <th>...</th>\n",
              "      <th>restuarant_opposite_direction_house</th>\n",
              "      <th>has Children</th>\n",
              "      <th>visit restaurant with rating (avg)</th>\n",
              "      <th>temperature</th>\n",
              "      <th>Restaur_spend_greater_than20</th>\n",
              "      <th>Travel Time</th>\n",
              "      <th>Climate</th>\n",
              "      <th>drop location</th>\n",
              "      <th>Prefer home food</th>\n",
              "      <th>Offer Accepted</th>\n",
              "    </tr>\n",
              "  </thead>\n",
              "  <tbody>\n",
              "    <tr>\n",
              "      <th>0</th>\n",
              "      <td>2days</td>\n",
              "      <td>₹100000 or More</td>\n",
              "      <td>4~8</td>\n",
              "      <td>1</td>\n",
              "      <td>less1</td>\n",
              "      <td>Married partner</td>\n",
              "      <td>4 star restaurant</td>\n",
              "      <td>36</td>\n",
              "      <td>0</td>\n",
              "      <td>0</td>\n",
              "      <td>...</td>\n",
              "      <td>0</td>\n",
              "      <td>0</td>\n",
              "      <td>4</td>\n",
              "      <td>67</td>\n",
              "      <td>less1</td>\n",
              "      <td>22</td>\n",
              "      <td>Spring</td>\n",
              "      <td>Location B</td>\n",
              "      <td>0</td>\n",
              "      <td>No</td>\n",
              "    </tr>\n",
              "    <tr>\n",
              "      <th>1</th>\n",
              "      <td>2days</td>\n",
              "      <td>₹87500 - ₹99999</td>\n",
              "      <td>4~8</td>\n",
              "      <td>0</td>\n",
              "      <td>4~8</td>\n",
              "      <td>Married partner</td>\n",
              "      <td>Take-away restaurant</td>\n",
              "      <td>50plus</td>\n",
              "      <td>0</td>\n",
              "      <td>0</td>\n",
              "      <td>...</td>\n",
              "      <td>0</td>\n",
              "      <td>1</td>\n",
              "      <td>3</td>\n",
              "      <td>89</td>\n",
              "      <td>1~3</td>\n",
              "      <td>18</td>\n",
              "      <td>Summer</td>\n",
              "      <td>Location B</td>\n",
              "      <td>0</td>\n",
              "      <td>Yes</td>\n",
              "    </tr>\n",
              "    <tr>\n",
              "      <th>2</th>\n",
              "      <td>2days</td>\n",
              "      <td>₹87500 - ₹99999</td>\n",
              "      <td>less1</td>\n",
              "      <td>1</td>\n",
              "      <td>1~3</td>\n",
              "      <td>Single</td>\n",
              "      <td>Cold drinks</td>\n",
              "      <td>26</td>\n",
              "      <td>1</td>\n",
              "      <td>0</td>\n",
              "      <td>...</td>\n",
              "      <td>1</td>\n",
              "      <td>1</td>\n",
              "      <td>4</td>\n",
              "      <td>67</td>\n",
              "      <td>less1</td>\n",
              "      <td>7</td>\n",
              "      <td>Winter</td>\n",
              "      <td>Location A</td>\n",
              "      <td>1</td>\n",
              "      <td>Yes</td>\n",
              "    </tr>\n",
              "    <tr>\n",
              "      <th>3</th>\n",
              "      <td>10hours</td>\n",
              "      <td>₹37500 - ₹49999</td>\n",
              "      <td>less1</td>\n",
              "      <td>0</td>\n",
              "      <td>1~3</td>\n",
              "      <td>Single</td>\n",
              "      <td>Take-away restaurant</td>\n",
              "      <td>46</td>\n",
              "      <td>1</td>\n",
              "      <td>0</td>\n",
              "      <td>...</td>\n",
              "      <td>0</td>\n",
              "      <td>1</td>\n",
              "      <td>3</td>\n",
              "      <td>89</td>\n",
              "      <td>1~3</td>\n",
              "      <td>7</td>\n",
              "      <td>Summer</td>\n",
              "      <td>Location C</td>\n",
              "      <td>0</td>\n",
              "      <td>No</td>\n",
              "    </tr>\n",
              "    <tr>\n",
              "      <th>4</th>\n",
              "      <td>2days</td>\n",
              "      <td>₹100000 or More</td>\n",
              "      <td>never</td>\n",
              "      <td>1</td>\n",
              "      <td>1~3</td>\n",
              "      <td>Single</td>\n",
              "      <td>4 star restaurant</td>\n",
              "      <td>21</td>\n",
              "      <td>0</td>\n",
              "      <td>1</td>\n",
              "      <td>...</td>\n",
              "      <td>1</td>\n",
              "      <td>0</td>\n",
              "      <td>3</td>\n",
              "      <td>40</td>\n",
              "      <td>less1</td>\n",
              "      <td>7</td>\n",
              "      <td>Summer</td>\n",
              "      <td>Location C</td>\n",
              "      <td>0</td>\n",
              "      <td>No</td>\n",
              "    </tr>\n",
              "    <tr>\n",
              "      <th>5</th>\n",
              "      <td>10hours</td>\n",
              "      <td>Less than ₹12500</td>\n",
              "      <td>4~8</td>\n",
              "      <td>1</td>\n",
              "      <td>gt8</td>\n",
              "      <td>Divorced</td>\n",
              "      <td>Take-away restaurant</td>\n",
              "      <td>50plus</td>\n",
              "      <td>1</td>\n",
              "      <td>0</td>\n",
              "      <td>...</td>\n",
              "      <td>1</td>\n",
              "      <td>0</td>\n",
              "      <td>0</td>\n",
              "      <td>40</td>\n",
              "      <td>less1</td>\n",
              "      <td>22</td>\n",
              "      <td>Spring</td>\n",
              "      <td>Location C</td>\n",
              "      <td>0</td>\n",
              "      <td>Yes</td>\n",
              "    </tr>\n",
              "    <tr>\n",
              "      <th>6</th>\n",
              "      <td>2days</td>\n",
              "      <td>Less than ₹12500</td>\n",
              "      <td>less1</td>\n",
              "      <td>1</td>\n",
              "      <td>1~3</td>\n",
              "      <td>Single</td>\n",
              "      <td>Cold drinks</td>\n",
              "      <td>below21</td>\n",
              "      <td>0</td>\n",
              "      <td>0</td>\n",
              "      <td>...</td>\n",
              "      <td>0</td>\n",
              "      <td>0</td>\n",
              "      <td>0</td>\n",
              "      <td>89</td>\n",
              "      <td>never</td>\n",
              "      <td>7</td>\n",
              "      <td>Spring</td>\n",
              "      <td>Location C</td>\n",
              "      <td>0</td>\n",
              "      <td>Yes</td>\n",
              "    </tr>\n",
              "    <tr>\n",
              "      <th>7</th>\n",
              "      <td>2days</td>\n",
              "      <td>₹50000 - ₹62499</td>\n",
              "      <td>never</td>\n",
              "      <td>1</td>\n",
              "      <td>1~3</td>\n",
              "      <td>Married partner</td>\n",
              "      <td>Restaurant with pub</td>\n",
              "      <td>50plus</td>\n",
              "      <td>0</td>\n",
              "      <td>0</td>\n",
              "      <td>...</td>\n",
              "      <td>1</td>\n",
              "      <td>1</td>\n",
              "      <td>0</td>\n",
              "      <td>40</td>\n",
              "      <td>less1</td>\n",
              "      <td>10</td>\n",
              "      <td>Summer</td>\n",
              "      <td>Location B</td>\n",
              "      <td>0</td>\n",
              "      <td>No</td>\n",
              "    </tr>\n",
              "    <tr>\n",
              "      <th>8</th>\n",
              "      <td>10hours</td>\n",
              "      <td>₹12500 - ₹24999</td>\n",
              "      <td>less1</td>\n",
              "      <td>1</td>\n",
              "      <td>less1</td>\n",
              "      <td>Single</td>\n",
              "      <td>Restaurant with pub</td>\n",
              "      <td>41</td>\n",
              "      <td>1</td>\n",
              "      <td>0</td>\n",
              "      <td>...</td>\n",
              "      <td>1</td>\n",
              "      <td>1</td>\n",
              "      <td>1</td>\n",
              "      <td>89</td>\n",
              "      <td>never</td>\n",
              "      <td>7</td>\n",
              "      <td>Summer</td>\n",
              "      <td>Location C</td>\n",
              "      <td>0</td>\n",
              "      <td>No</td>\n",
              "    </tr>\n",
              "    <tr>\n",
              "      <th>9</th>\n",
              "      <td>10hours</td>\n",
              "      <td>₹75000 - ₹87499</td>\n",
              "      <td>4~8</td>\n",
              "      <td>1</td>\n",
              "      <td>1~3</td>\n",
              "      <td>Married partner</td>\n",
              "      <td>4 star restaurant</td>\n",
              "      <td>41</td>\n",
              "      <td>1</td>\n",
              "      <td>0</td>\n",
              "      <td>...</td>\n",
              "      <td>1</td>\n",
              "      <td>1</td>\n",
              "      <td>0</td>\n",
              "      <td>67</td>\n",
              "      <td>less1</td>\n",
              "      <td>22</td>\n",
              "      <td>Winter</td>\n",
              "      <td>Location B</td>\n",
              "      <td>0</td>\n",
              "      <td>Yes</td>\n",
              "    </tr>\n",
              "  </tbody>\n",
              "</table>\n",
              "<p>10 rows × 31 columns</p>\n",
              "</div>\n",
              "      <button class=\"colab-df-convert\" onclick=\"convertToInteractive('df-9f1560e3-ac68-461b-a732-6011484f20b0')\"\n",
              "              title=\"Convert this dataframe to an interactive table.\"\n",
              "              style=\"display:none;\">\n",
              "\n",
              "  <svg xmlns=\"http://www.w3.org/2000/svg\" height=\"24px\"viewBox=\"0 0 24 24\"\n",
              "       width=\"24px\">\n",
              "    <path d=\"M0 0h24v24H0V0z\" fill=\"none\"/>\n",
              "    <path d=\"M18.56 5.44l.94 2.06.94-2.06 2.06-.94-2.06-.94-.94-2.06-.94 2.06-2.06.94zm-11 1L8.5 8.5l.94-2.06 2.06-.94-2.06-.94L8.5 2.5l-.94 2.06-2.06.94zm10 10l.94 2.06.94-2.06 2.06-.94-2.06-.94-.94-2.06-.94 2.06-2.06.94z\"/><path d=\"M17.41 7.96l-1.37-1.37c-.4-.4-.92-.59-1.43-.59-.52 0-1.04.2-1.43.59L10.3 9.45l-7.72 7.72c-.78.78-.78 2.05 0 2.83L4 21.41c.39.39.9.59 1.41.59.51 0 1.02-.2 1.41-.59l7.78-7.78 2.81-2.81c.8-.78.8-2.07 0-2.86zM5.41 20L4 18.59l7.72-7.72 1.47 1.35L5.41 20z\"/>\n",
              "  </svg>\n",
              "      </button>\n",
              "\n",
              "\n",
              "\n",
              "    <div id=\"df-a78a8f00-8e22-4b73-b51c-2ec95e8673a7\">\n",
              "      <button class=\"colab-df-quickchart\" onclick=\"quickchart('df-a78a8f00-8e22-4b73-b51c-2ec95e8673a7')\"\n",
              "              title=\"Suggest charts.\"\n",
              "              style=\"display:none;\">\n",
              "\n",
              "<svg xmlns=\"http://www.w3.org/2000/svg\" height=\"24px\"viewBox=\"0 0 24 24\"\n",
              "     width=\"24px\">\n",
              "    <g>\n",
              "        <path d=\"M19 3H5c-1.1 0-2 .9-2 2v14c0 1.1.9 2 2 2h14c1.1 0 2-.9 2-2V5c0-1.1-.9-2-2-2zM9 17H7v-7h2v7zm4 0h-2V7h2v10zm4 0h-2v-4h2v4z\"/>\n",
              "    </g>\n",
              "</svg>\n",
              "      </button>\n",
              "    </div>\n",
              "\n",
              "<style>\n",
              "  .colab-df-quickchart {\n",
              "    background-color: #E8F0FE;\n",
              "    border: none;\n",
              "    border-radius: 50%;\n",
              "    cursor: pointer;\n",
              "    display: none;\n",
              "    fill: #1967D2;\n",
              "    height: 32px;\n",
              "    padding: 0 0 0 0;\n",
              "    width: 32px;\n",
              "  }\n",
              "\n",
              "  .colab-df-quickchart:hover {\n",
              "    background-color: #E2EBFA;\n",
              "    box-shadow: 0px 1px 2px rgba(60, 64, 67, 0.3), 0px 1px 3px 1px rgba(60, 64, 67, 0.15);\n",
              "    fill: #174EA6;\n",
              "  }\n",
              "\n",
              "  [theme=dark] .colab-df-quickchart {\n",
              "    background-color: #3B4455;\n",
              "    fill: #D2E3FC;\n",
              "  }\n",
              "\n",
              "  [theme=dark] .colab-df-quickchart:hover {\n",
              "    background-color: #434B5C;\n",
              "    box-shadow: 0px 1px 3px 1px rgba(0, 0, 0, 0.15);\n",
              "    filter: drop-shadow(0px 1px 2px rgba(0, 0, 0, 0.3));\n",
              "    fill: #FFFFFF;\n",
              "  }\n",
              "</style>\n",
              "\n",
              "    <script>\n",
              "      async function quickchart(key) {\n",
              "        const containerElement = document.querySelector('#' + key);\n",
              "        const charts = await google.colab.kernel.invokeFunction(\n",
              "            'suggestCharts', [key], {});\n",
              "      }\n",
              "    </script>\n",
              "\n",
              "      <script>\n",
              "\n",
              "function displayQuickchartButton(domScope) {\n",
              "  let quickchartButtonEl =\n",
              "    domScope.querySelector('#df-a78a8f00-8e22-4b73-b51c-2ec95e8673a7 button.colab-df-quickchart');\n",
              "  quickchartButtonEl.style.display =\n",
              "    google.colab.kernel.accessAllowed ? 'block' : 'none';\n",
              "}\n",
              "\n",
              "        displayQuickchartButton(document);\n",
              "      </script>\n",
              "      <style>\n",
              "    .colab-df-container {\n",
              "      display:flex;\n",
              "      flex-wrap:wrap;\n",
              "      gap: 12px;\n",
              "    }\n",
              "\n",
              "    .colab-df-convert {\n",
              "      background-color: #E8F0FE;\n",
              "      border: none;\n",
              "      border-radius: 50%;\n",
              "      cursor: pointer;\n",
              "      display: none;\n",
              "      fill: #1967D2;\n",
              "      height: 32px;\n",
              "      padding: 0 0 0 0;\n",
              "      width: 32px;\n",
              "    }\n",
              "\n",
              "    .colab-df-convert:hover {\n",
              "      background-color: #E2EBFA;\n",
              "      box-shadow: 0px 1px 2px rgba(60, 64, 67, 0.3), 0px 1px 3px 1px rgba(60, 64, 67, 0.15);\n",
              "      fill: #174EA6;\n",
              "    }\n",
              "\n",
              "    [theme=dark] .colab-df-convert {\n",
              "      background-color: #3B4455;\n",
              "      fill: #D2E3FC;\n",
              "    }\n",
              "\n",
              "    [theme=dark] .colab-df-convert:hover {\n",
              "      background-color: #434B5C;\n",
              "      box-shadow: 0px 1px 3px 1px rgba(0, 0, 0, 0.15);\n",
              "      filter: drop-shadow(0px 1px 2px rgba(0, 0, 0, 0.3));\n",
              "      fill: #FFFFFF;\n",
              "    }\n",
              "  </style>\n",
              "\n",
              "      <script>\n",
              "        const buttonEl =\n",
              "          document.querySelector('#df-9f1560e3-ac68-461b-a732-6011484f20b0 button.colab-df-convert');\n",
              "        buttonEl.style.display =\n",
              "          google.colab.kernel.accessAllowed ? 'block' : 'none';\n",
              "\n",
              "        async function convertToInteractive(key) {\n",
              "          const element = document.querySelector('#df-9f1560e3-ac68-461b-a732-6011484f20b0');\n",
              "          const dataTable =\n",
              "            await google.colab.kernel.invokeFunction('convertToInteractive',\n",
              "                                                     [key], {});\n",
              "          if (!dataTable) return;\n",
              "\n",
              "          const docLinkHtml = 'Like what you see? Visit the ' +\n",
              "            '<a target=\"_blank\" href=https://colab.research.google.com/notebooks/data_table.ipynb>data table notebook</a>'\n",
              "            + ' to learn more about interactive tables.';\n",
              "          element.innerHTML = '';\n",
              "          dataTable['output_type'] = 'display_data';\n",
              "          await google.colab.output.renderOutput(dataTable, element);\n",
              "          const docLink = document.createElement('div');\n",
              "          docLink.innerHTML = docLinkHtml;\n",
              "          element.appendChild(docLink);\n",
              "        }\n",
              "      </script>\n",
              "    </div>\n",
              "  </div>\n"
            ]
          },
          "metadata": {},
          "execution_count": 5
        }
      ]
    },
    {
      "cell_type": "code",
      "source": [
        "print(given_train_data.isnull().sum())\n",
        "given_train_data.shape"
      ],
      "metadata": {
        "execution": {
          "iopub.status.busy": "2023-01-15T16:11:46.913924Z",
          "iopub.execute_input": "2023-01-15T16:11:46.914295Z",
          "iopub.status.idle": "2023-01-15T16:11:46.934019Z",
          "shell.execute_reply.started": "2023-01-15T16:11:46.914264Z",
          "shell.execute_reply": "2023-01-15T16:11:46.932933Z"
        },
        "trusted": true,
        "id": "_HrbWCyGl3x8",
        "outputId": "0b912e01-26f3-4ab4-f45c-64be11f41cd6",
        "colab": {
          "base_uri": "https://localhost:8080/"
        }
      },
      "execution_count": 6,
      "outputs": [
        {
          "output_type": "stream",
          "name": "stdout",
          "text": [
            "offer expiration                            0\n",
            "income_range                                0\n",
            "no_visited_Cold drinks                    198\n",
            "travelled_more_than_15mins_for_offer        0\n",
            "Restaur_spend_less_than20                 121\n",
            "Marital Status                              0\n",
            "restaurant type                             0\n",
            "age                                         0\n",
            "Prefer western over chinese                 0\n",
            "travelled_more_than_25mins_for_offer        0\n",
            "travelled_more_than_5mins_for_offer         0\n",
            "no_visited_bars                            93\n",
            "gender                                      0\n",
            "car                                     12268\n",
            "restuarant_same_direction_house             0\n",
            "Cooks regularly                             0\n",
            "Customer type                               0\n",
            "Qualification                               0\n",
            "is foodie                                   0\n",
            "no_Take-aways                             144\n",
            "Job/Job Industry                            0\n",
            "restuarant_opposite_direction_house         0\n",
            "has Children                                0\n",
            "visit restaurant with rating (avg)          0\n",
            "temperature                                 0\n",
            "Restaur_spend_greater_than20              160\n",
            "Travel Time                                 0\n",
            "Climate                                     0\n",
            "drop location                               0\n",
            "Prefer home food                            0\n",
            "Offer Accepted                              0\n",
            "dtype: int64\n"
          ]
        },
        {
          "output_type": "execute_result",
          "data": {
            "text/plain": [
              "(12379, 31)"
            ]
          },
          "metadata": {},
          "execution_count": 6
        }
      ]
    },
    {
      "cell_type": "markdown",
      "source": [
        "# clean the given training Data"
      ],
      "metadata": {
        "id": "6M6puvDTl3x8"
      }
    },
    {
      "cell_type": "markdown",
      "source": [
        "### drop car column and the 5% observations which are null"
      ],
      "metadata": {
        "id": "eR5Eud-Fl3yA"
      }
    },
    {
      "cell_type": "code",
      "source": [
        "# drop the car column because it has 99% blanks\n",
        "given_train_data.drop([\"car\"], axis = 1, inplace=True)\n",
        "given_test_data.drop([\"car\"], axis = 1, inplace=True)\n",
        "\n",
        "# drop the observations which has empty values, 5% obs\n",
        "#given_train_data.dropna(axis = 0, inplace = True)\n",
        "# reset the index after u drop the observation\n",
        "#given_train_data.reset_index(inplace = True)\n",
        "\n",
        "# fill all null values in the given test data, you strictly need 5305 rows\n",
        "# so dont drop any rows with null values instead fill the null values\n",
        "given_test_data.fillna(value = 0, inplace = True)"
      ],
      "metadata": {
        "execution": {
          "iopub.status.busy": "2023-01-15T16:11:46.935987Z",
          "iopub.execute_input": "2023-01-15T16:11:46.936725Z",
          "iopub.status.idle": "2023-01-15T16:11:46.954977Z",
          "shell.execute_reply.started": "2023-01-15T16:11:46.936683Z",
          "shell.execute_reply": "2023-01-15T16:11:46.953958Z"
        },
        "trusted": true,
        "id": "V2hWpVeDl3yB"
      },
      "execution_count": 7,
      "outputs": []
    },
    {
      "cell_type": "code",
      "source": [
        "given_test_data.isnull().sum()"
      ],
      "metadata": {
        "execution": {
          "iopub.status.busy": "2023-01-15T16:11:46.957469Z",
          "iopub.execute_input": "2023-01-15T16:11:46.958050Z",
          "iopub.status.idle": "2023-01-15T16:11:46.976824Z",
          "shell.execute_reply.started": "2023-01-15T16:11:46.958009Z",
          "shell.execute_reply": "2023-01-15T16:11:46.975702Z"
        },
        "trusted": true,
        "id": "dXw_M4znl3yC",
        "outputId": "45f0d32d-b752-4fb0-8f5c-e2221ebf169f",
        "colab": {
          "base_uri": "https://localhost:8080/"
        }
      },
      "execution_count": 8,
      "outputs": [
        {
          "output_type": "execute_result",
          "data": {
            "text/plain": [
              "offer expiration                        0\n",
              "income_range                            0\n",
              "no_visited_Cold drinks                  0\n",
              "travelled_more_than_15mins_for_offer    0\n",
              "Restaur_spend_less_than20               0\n",
              "Marital Status                          0\n",
              "restaurant type                         0\n",
              "age                                     0\n",
              "Prefer western over chinese             0\n",
              "travelled_more_than_25mins_for_offer    0\n",
              "travelled_more_than_5mins_for_offer     0\n",
              "no_visited_bars                         0\n",
              "gender                                  0\n",
              "restuarant_same_direction_house         0\n",
              "Cooks regularly                         0\n",
              "Customer type                           0\n",
              "Qualification                           0\n",
              "is foodie                               0\n",
              "no_Take-aways                           0\n",
              "Job/Job Industry                        0\n",
              "restuarant_opposite_direction_house     0\n",
              "has Children                            0\n",
              "visit restaurant with rating (avg)      0\n",
              "temperature                             0\n",
              "Restaur_spend_greater_than20            0\n",
              "Travel Time                             0\n",
              "Climate                                 0\n",
              "drop location                           0\n",
              "Prefer home food                        0\n",
              "dtype: int64"
            ]
          },
          "metadata": {},
          "execution_count": 8
        }
      ]
    },
    {
      "cell_type": "markdown",
      "source": [
        "### Clean the required columns"
      ],
      "metadata": {
        "execution": {
          "iopub.status.busy": "2022-11-26T15:20:12.797128Z",
          "iopub.execute_input": "2022-11-26T15:20:12.797786Z",
          "iopub.status.idle": "2022-11-26T15:20:12.810995Z",
          "shell.execute_reply.started": "2022-11-26T15:20:12.797746Z",
          "shell.execute_reply": "2022-11-26T15:20:12.809982Z"
        },
        "id": "fOLM58mTl3yE"
      }
    },
    {
      "cell_type": "code",
      "source": [
        "# A function made to replace any values from the data\n",
        "def replace(train_data, test_data,replace_what, replace_with):\n",
        "    train_data.replace(to_replace = replace_what, value = replace_with, inplace = True)\n",
        "    test_data.replace(to_replace = replace_what, value = replace_with, inplace = True)\n",
        "\n",
        "\n",
        "# call the function to clean the data from various columns\n",
        "\n",
        "# \"offer expiration\" column\n",
        "replace(given_train_data,given_test_data,'2days',48)\n",
        "replace(given_train_data,given_test_data,'10hours',10)\n",
        "\n",
        "# \"age\" column\n",
        "replace(given_train_data,given_test_data,'50plus',54)\n",
        "replace(given_train_data,given_test_data,'below21',20)\n",
        "\n",
        "# \"no_visited_Cold drinks\", \"Restaur_spend_less_than20\",\n",
        "# \"no_visited_bars\", \"no_Take-aways\",\n",
        "# \"Restaur_spend_greater_than20\"\n",
        "\n",
        "\n",
        "replace(given_train_data,given_test_data,\"4~8\",6)\n",
        "replace(given_train_data,given_test_data,\"1~3\",2)\n",
        "replace(given_train_data,given_test_data,\"gt8\",8)\n",
        "replace(given_train_data,given_test_data,\"less1\",1)\n",
        "replace(given_train_data,given_test_data,\"never\",0)"
      ],
      "metadata": {
        "execution": {
          "iopub.status.busy": "2023-01-15T16:11:46.981531Z",
          "iopub.execute_input": "2023-01-15T16:11:46.982403Z",
          "iopub.status.idle": "2023-01-15T16:11:47.110078Z",
          "shell.execute_reply.started": "2023-01-15T16:11:46.982364Z",
          "shell.execute_reply": "2023-01-15T16:11:47.108941Z"
        },
        "trusted": true,
        "id": "jqS5-fA4l3yF"
      },
      "execution_count": 9,
      "outputs": []
    },
    {
      "cell_type": "markdown",
      "source": [
        "#### clean \"income range column\""
      ],
      "metadata": {
        "id": "1bYmZH_0l3yG"
      }
    },
    {
      "cell_type": "code",
      "source": [
        "# we will split the income range into low range and high range\n",
        "given_train_data[\"low_income_range\"] = 1\n",
        "given_train_data[\"high_income_range\"] = 2\n",
        "given_test_data[\"low_income_range\"] = 1\n",
        "given_test_data[\"high_income_range\"] = 2\n",
        "\n",
        "def income_range(dataframe):\n",
        "    for i in range(dataframe.shape[0]):\n",
        "        if dataframe[\"income_range\"][i] == \"₹100000 or More\":\n",
        "            dataframe[\"low_income_range\"][i] = 100000 # 1lacs\n",
        "            dataframe[\"high_income_range\"][i] = 1000000 # 10lacs\n",
        "\n",
        "        elif dataframe[\"income_range\"][i] == \"Less than ₹12500\":\n",
        "            dataframe[\"low_income_range\"][i] = 5000\n",
        "            dataframe[\"high_income_range\"][i] = 12500\n",
        "        else:\n",
        "            dataframe[\"low_income_range\"][i] = int(dataframe[\"income_range\"][i][1:6])\n",
        "            dataframe[\"high_income_range\"][i] = int(dataframe[\"income_range\"][i][10:])\n",
        "\n",
        "    return dataframe\n",
        "\n",
        "\n",
        "given_train_data = income_range(given_train_data)\n",
        "given_test_data = income_range(given_test_data)\n",
        "\n",
        "# above code works so now remove the old income range column\n",
        "given_train_data.drop([\"income_range\"],axis = 1,inplace=True)\n",
        "given_test_data.drop([\"income_range\"],axis = 1,inplace=True)"
      ],
      "metadata": {
        "execution": {
          "iopub.status.busy": "2023-01-15T16:11:47.113849Z",
          "iopub.execute_input": "2023-01-15T16:11:47.114809Z",
          "iopub.status.idle": "2023-01-15T16:11:57.835302Z",
          "shell.execute_reply.started": "2023-01-15T16:11:47.114759Z",
          "shell.execute_reply": "2023-01-15T16:11:57.834282Z"
        },
        "trusted": true,
        "id": "6draraLRl3yG"
      },
      "execution_count": 10,
      "outputs": []
    },
    {
      "cell_type": "code",
      "source": [
        "given_train_data.isnull().sum()"
      ],
      "metadata": {
        "execution": {
          "iopub.status.busy": "2023-01-15T16:11:57.836969Z",
          "iopub.execute_input": "2023-01-15T16:11:57.837389Z",
          "iopub.status.idle": "2023-01-15T16:11:57.855412Z",
          "shell.execute_reply.started": "2023-01-15T16:11:57.837349Z",
          "shell.execute_reply": "2023-01-15T16:11:57.854525Z"
        },
        "trusted": true,
        "id": "Iv-jbKj2l3yI",
        "outputId": "5d931f70-95f1-4aac-a4a2-4b94d520515d",
        "colab": {
          "base_uri": "https://localhost:8080/"
        }
      },
      "execution_count": 11,
      "outputs": [
        {
          "output_type": "execute_result",
          "data": {
            "text/plain": [
              "offer expiration                          0\n",
              "no_visited_Cold drinks                  198\n",
              "travelled_more_than_15mins_for_offer      0\n",
              "Restaur_spend_less_than20               121\n",
              "Marital Status                            0\n",
              "restaurant type                           0\n",
              "age                                       0\n",
              "Prefer western over chinese               0\n",
              "travelled_more_than_25mins_for_offer      0\n",
              "travelled_more_than_5mins_for_offer       0\n",
              "no_visited_bars                          93\n",
              "gender                                    0\n",
              "restuarant_same_direction_house           0\n",
              "Cooks regularly                           0\n",
              "Customer type                             0\n",
              "Qualification                             0\n",
              "is foodie                                 0\n",
              "no_Take-aways                           144\n",
              "Job/Job Industry                          0\n",
              "restuarant_opposite_direction_house       0\n",
              "has Children                              0\n",
              "visit restaurant with rating (avg)        0\n",
              "temperature                               0\n",
              "Restaur_spend_greater_than20            160\n",
              "Travel Time                               0\n",
              "Climate                                   0\n",
              "drop location                             0\n",
              "Prefer home food                          0\n",
              "Offer Accepted                            0\n",
              "low_income_range                          0\n",
              "high_income_range                         0\n",
              "dtype: int64"
            ]
          },
          "metadata": {},
          "execution_count": 11
        }
      ]
    },
    {
      "cell_type": "code",
      "source": [
        "# extract the columns since u need them to convert the imputed\n",
        "# train set back to the dataframe\n",
        "data_columns = list(given_train_data.columns)\n",
        "data_columns\n",
        "from sklearn.impute import SimpleImputer\n",
        "si = SimpleImputer(strategy = 'most_frequent', missing_values= np.nan)\n",
        "given_train_data = si.fit_transform(given_train_data)\n",
        "given_train_data = pd.DataFrame(given_train_data,columns = data_columns)"
      ],
      "metadata": {
        "execution": {
          "iopub.status.busy": "2023-01-15T16:11:57.858017Z",
          "iopub.execute_input": "2023-01-15T16:11:57.858343Z",
          "iopub.status.idle": "2023-01-15T16:11:57.947618Z",
          "shell.execute_reply.started": "2023-01-15T16:11:57.858310Z",
          "shell.execute_reply": "2023-01-15T16:11:57.946315Z"
        },
        "trusted": true,
        "id": "E2ogcOAOl3yI"
      },
      "execution_count": 12,
      "outputs": []
    },
    {
      "cell_type": "code",
      "source": [
        "given_train_data.isnull().sum()\n"
      ],
      "metadata": {
        "execution": {
          "iopub.status.busy": "2023-01-15T16:11:57.949156Z",
          "iopub.execute_input": "2023-01-15T16:11:57.949526Z",
          "iopub.status.idle": "2023-01-15T16:11:57.972528Z",
          "shell.execute_reply.started": "2023-01-15T16:11:57.949490Z",
          "shell.execute_reply": "2023-01-15T16:11:57.971491Z"
        },
        "trusted": true,
        "id": "99tS0gN1l3yJ",
        "outputId": "29d32c41-0fc2-4710-bbb9-4bea153c82c4",
        "colab": {
          "base_uri": "https://localhost:8080/"
        }
      },
      "execution_count": 13,
      "outputs": [
        {
          "output_type": "execute_result",
          "data": {
            "text/plain": [
              "offer expiration                        0\n",
              "no_visited_Cold drinks                  0\n",
              "travelled_more_than_15mins_for_offer    0\n",
              "Restaur_spend_less_than20               0\n",
              "Marital Status                          0\n",
              "restaurant type                         0\n",
              "age                                     0\n",
              "Prefer western over chinese             0\n",
              "travelled_more_than_25mins_for_offer    0\n",
              "travelled_more_than_5mins_for_offer     0\n",
              "no_visited_bars                         0\n",
              "gender                                  0\n",
              "restuarant_same_direction_house         0\n",
              "Cooks regularly                         0\n",
              "Customer type                           0\n",
              "Qualification                           0\n",
              "is foodie                               0\n",
              "no_Take-aways                           0\n",
              "Job/Job Industry                        0\n",
              "restuarant_opposite_direction_house     0\n",
              "has Children                            0\n",
              "visit restaurant with rating (avg)      0\n",
              "temperature                             0\n",
              "Restaur_spend_greater_than20            0\n",
              "Travel Time                             0\n",
              "Climate                                 0\n",
              "drop location                           0\n",
              "Prefer home food                        0\n",
              "Offer Accepted                          0\n",
              "low_income_range                        0\n",
              "high_income_range                       0\n",
              "dtype: int64"
            ]
          },
          "metadata": {},
          "execution_count": 13
        }
      ]
    },
    {
      "cell_type": "markdown",
      "source": [
        "# Pipeline"
      ],
      "metadata": {
        "id": "-MhJmOEIl3yJ"
      }
    },
    {
      "cell_type": "code",
      "source": [
        "# first seperate X and y\n",
        "\n",
        "X = given_train_data.drop([\"Offer Accepted\"],axis = 1)\n",
        "y = given_train_data[\"Offer Accepted\"]\n",
        "\n",
        "# now divide the data into train and test using traintestsplit\n",
        "X_train,x_test,y_train,y_test = train_test_split(X,y,test_size=0.30,random_state = 42)\n",
        "\n",
        "\n",
        "numeric_transformer = Pipeline(steps = [(\"scaler\", StandardScaler())])\n",
        "\n",
        "n_cols = ['offer expiration','low_income_range','high_income_range',\n",
        "'no_visited_Cold drinks','travelled_more_than_15mins_for_offer',\n",
        "'Restaur_spend_less_than20','age','Prefer western over chinese',\n",
        "'travelled_more_than_25mins_for_offer','travelled_more_than_5mins_for_offer',\n",
        "'no_visited_bars','restuarant_same_direction_house',\n",
        "'Cooks regularly','is foodie','restuarant_opposite_direction_house',\n",
        "'has Children','visit restaurant with rating (avg)','temperature',\n",
        "'Travel Time','Prefer home food','no_Take-aways','Restaur_spend_greater_than20']  # 21 total numerical variables\n",
        "\n",
        "categorical_transformer = OneHotEncoder()\n",
        "c_cols = [\"Marital Status\",'gender', \"Customer type\",\"Qualification\",\"Job/Job Industry\",\"Climate\",\"drop location\",\"restaurant type\"]\n",
        "\n",
        "preprocessor = ColumnTransformer(transformers = [(\"num\", numeric_transformer,n_cols),\n",
        "                     (\"cat_ohe\",categorical_transformer, c_cols ) ] ,\n",
        "                     remainder = \"passthrough\")\n",
        "\n",
        "\n",
        "X_train = preprocessor.fit_transform(X_train)\n",
        "\n",
        "x_test = preprocessor.transform(x_test)  # only transform not fit_transform"
      ],
      "metadata": {
        "execution": {
          "iopub.status.busy": "2023-01-15T16:11:57.974022Z",
          "iopub.execute_input": "2023-01-15T16:11:57.974833Z",
          "iopub.status.idle": "2023-01-15T16:11:58.067240Z",
          "shell.execute_reply.started": "2023-01-15T16:11:57.974796Z",
          "shell.execute_reply": "2023-01-15T16:11:58.066182Z"
        },
        "trusted": true,
        "id": "HueYVFctl3yK"
      },
      "execution_count": 14,
      "outputs": []
    },
    {
      "cell_type": "code",
      "source": [
        "# attach the index column to the given test data\n",
        "given_test_data[\"index\"] = [i for i in range(len(given_test_data))]\n",
        "\n",
        "given_test_data = preprocessor.transform(given_test_data)\n"
      ],
      "metadata": {
        "execution": {
          "iopub.status.busy": "2023-01-15T16:11:58.068763Z",
          "iopub.execute_input": "2023-01-15T16:11:58.069150Z",
          "iopub.status.idle": "2023-01-15T16:11:58.106985Z",
          "shell.execute_reply.started": "2023-01-15T16:11:58.069115Z",
          "shell.execute_reply": "2023-01-15T16:11:58.105868Z"
        },
        "trusted": true,
        "id": "k-EQuUTGl3yK"
      },
      "execution_count": 15,
      "outputs": []
    },
    {
      "cell_type": "markdown",
      "source": [
        "### handle the mild class imbalance"
      ],
      "metadata": {
        "id": "yohQZg-7l3yL"
      }
    },
    {
      "cell_type": "code",
      "source": [
        "# NO is the minority class\n",
        "\n",
        "print(\"test imbalance:\", (np.count_nonzero(y_test == \"No\"))  /  (len(y_test)) )\n",
        "\n",
        "print()\n",
        "\n",
        "print(\"train imbalance:\", (np.count_nonzero(y_train == \"No\"))  /  (len(y_train)) )\n",
        "\n",
        "\n",
        "from imblearn.over_sampling import SMOTE\n",
        "sm = SMOTE(random_state=42)\n",
        "X_resampled, y_resampled = sm.fit_resample(preprocessor.transform(X)  , y)\n"
      ],
      "metadata": {
        "execution": {
          "iopub.status.busy": "2023-01-15T16:11:58.108882Z",
          "iopub.execute_input": "2023-01-15T16:11:58.109295Z",
          "iopub.status.idle": "2023-01-15T16:11:58.926195Z",
          "shell.execute_reply.started": "2023-01-15T16:11:58.109255Z",
          "shell.execute_reply": "2023-01-15T16:11:58.925090Z"
        },
        "trusted": true,
        "id": "IWObbFetl3yL",
        "outputId": "fd69a6f9-84ae-4630-c17d-73cc45be6c52",
        "colab": {
          "base_uri": "https://localhost:8080/"
        }
      },
      "execution_count": 16,
      "outputs": [
        {
          "output_type": "stream",
          "name": "stdout",
          "text": [
            "test imbalance: 0.4439956919763059\n",
            "\n",
            "train imbalance: 0.4311598384304674\n"
          ]
        }
      ]
    },
    {
      "cell_type": "markdown",
      "source": [
        "# split into train and test"
      ],
      "metadata": {
        "id": "xStzCqz4l3yM"
      }
    },
    {
      "cell_type": "code",
      "source": [
        "# first seperate X and y\n",
        "\n",
        "X = given_train_data.drop([\"Offer Accepted\"],axis = 1)\n",
        "y = given_train_data[\"Offer Accepted\"]\n",
        "\n",
        "# now divide the data into train and test using traintestsplit\n",
        "X_train,x_test,y_train,y_test = train_test_split(X_resampled,y_resampled,test_size=0.30,random_state=42)\n",
        "\n",
        "print()\n",
        "\n",
        "print(\"test imbalance:\", (np.count_nonzero(y_test == \"No\"))  /  (len(y_test)) )\n",
        "print(\"train imbalance:\", (np.count_nonzero(y_train == \"No\"))  /  (len(y_train)) )"
      ],
      "metadata": {
        "execution": {
          "iopub.status.busy": "2023-01-15T16:11:58.931042Z",
          "iopub.execute_input": "2023-01-15T16:11:58.931371Z",
          "iopub.status.idle": "2023-01-15T16:11:58.950394Z",
          "shell.execute_reply.started": "2023-01-15T16:11:58.931341Z",
          "shell.execute_reply": "2023-01-15T16:11:58.949079Z"
        },
        "trusted": true,
        "id": "duwMaiBgl3yM",
        "outputId": "52d234f3-323e-4072-fb43-0499b32e0762",
        "colab": {
          "base_uri": "https://localhost:8080/"
        }
      },
      "execution_count": 17,
      "outputs": [
        {
          "output_type": "stream",
          "name": "stdout",
          "text": [
            "\n",
            "test imbalance: 0.5034548487014534\n",
            "train imbalance: 0.49851904810540293\n"
          ]
        }
      ]
    },
    {
      "cell_type": "code",
      "source": [
        "# run the randomforest with default parameter values\n",
        "rf = RandomForestClassifier(random_state = 1200)\n",
        "rf.fit(X_train, y_train)\n",
        "\n",
        "print(\"Test Score\",rf.score(x_test,y_test))  #0.6726, score after hyperparatuning is 0.6378653113087674\n",
        "print(\"Train score:\",rf.score(X_train,y_train))\n",
        "\n",
        "y_pred_test = rf.predict(x_test)\n",
        "\n",
        "precision,recall,fscore,support = score(y_test,y_pred_test,average = \"macro\")\n",
        "print('F1-score : {},'.format(fscore))"
      ],
      "metadata": {
        "execution": {
          "iopub.status.busy": "2023-01-15T16:11:58.951733Z",
          "iopub.execute_input": "2023-01-15T16:11:58.952314Z",
          "iopub.status.idle": "2023-01-15T16:12:01.090590Z",
          "shell.execute_reply.started": "2023-01-15T16:11:58.952279Z",
          "shell.execute_reply": "2023-01-15T16:12:01.089397Z"
        },
        "trusted": true,
        "id": "qpWDxKyzl3yN",
        "outputId": "f622eb7e-b38e-4e63-8e13-cf3ee5521761",
        "colab": {
          "base_uri": "https://localhost:8080/"
        }
      },
      "execution_count": 18,
      "outputs": [
        {
          "output_type": "stream",
          "name": "stdout",
          "text": [
            "Test Score 0.6835835120324041\n",
            "Train score: 1.0\n",
            "F1-score : 0.6815056187788173,\n"
          ]
        }
      ]
    },
    {
      "cell_type": "markdown",
      "source": [
        "### Hyperparameter Tun (for RFC) using RandomSearchCV"
      ],
      "metadata": {
        "id": "re1uNcFZl3yN"
      }
    },
    {
      "cell_type": "code",
      "source": [
        "# Number of trees in random forest\n",
        "n_estimators = [int(x) for x in np.linspace(start = 10, stop = 200, num = 15)]\n",
        "# Number of features to consider at every split\n",
        "max_features = ['auto', 'sqrt','log2']\n",
        "# Maximum number of levels in tree\n",
        "max_depth = [int(x) for x in np.linspace(10, 110, num = 20)]\n",
        "max_depth.append(None)#  append the default None in the end\n",
        "# Minimum number of samples required to split a node\n",
        "min_samples_split = [2, 3, 4, 5]\n",
        "# Minimum number of samples required at each leaf node\n",
        "min_samples_leaf = [1,2, 3, 4]\n",
        "# Method of selecting samples for training each tree\n",
        "bootstrap = [True, False]\n",
        "\n",
        "# random grid\n",
        "\n",
        "random_grid = {'n_estimators': n_estimators,\n",
        "               'max_features': max_features,\n",
        "               'max_depth': max_depth,\n",
        "               'min_samples_split': min_samples_split,\n",
        "               'min_samples_leaf': min_samples_leaf,\n",
        "               'bootstrap': bootstrap}\n",
        "\n",
        "\n",
        "# convert y_train from yes/no to 1/0 for randomized search\n",
        "y_train.replace(to_replace=\"Yes\", value = 1, inplace = True)\n",
        "y_train.replace(to_replace=\"No\", value = 0, inplace = True)\n",
        "\n",
        "rf_random = RandomizedSearchCV(estimator = rf, param_distributions = random_grid, n_iter = 25, cv = 3, verbose=3, random_state=1200, n_jobs = -1,scoring ='f1' )\n",
        "\n"
      ],
      "metadata": {
        "execution": {
          "iopub.status.busy": "2023-01-15T16:12:01.092366Z",
          "iopub.execute_input": "2023-01-15T16:12:01.092790Z",
          "iopub.status.idle": "2023-01-15T16:12:01.108451Z",
          "shell.execute_reply.started": "2023-01-15T16:12:01.092749Z",
          "shell.execute_reply": "2023-01-15T16:12:01.107374Z"
        },
        "trusted": true,
        "id": "D_HbZD_nl3yO"
      },
      "execution_count": 19,
      "outputs": []
    },
    {
      "cell_type": "code",
      "source": [
        "# Fit the random search model\n",
        "# rf_random.fit(X_train,y_train)\n",
        "# rf_random.best_params_"
      ],
      "metadata": {
        "execution": {
          "iopub.status.busy": "2023-01-15T16:12:01.110354Z",
          "iopub.execute_input": "2023-01-15T16:12:01.110809Z",
          "iopub.status.idle": "2023-01-15T16:12:01.117501Z",
          "shell.execute_reply.started": "2023-01-15T16:12:01.110765Z",
          "shell.execute_reply": "2023-01-15T16:12:01.116105Z"
        },
        "trusted": true,
        "id": "iKQkARL4l3yO"
      },
      "execution_count": 20,
      "outputs": []
    },
    {
      "cell_type": "markdown",
      "source": [
        "### Train the Random Forest classifier using best parameters"
      ],
      "metadata": {
        "id": "J41mr_mol3yO"
      }
    },
    {
      "cell_type": "code",
      "source": [
        "# replace the 1 and 0 by yes and no\n",
        "y_train.replace(to_replace=1, value = \"Yes\", inplace = True)\n",
        "y_train.replace(to_replace=0, value = \"No\", inplace = True)\n",
        "\n",
        "test = []\n",
        "train = []\n",
        "\n",
        "for i in range(1,20):\n",
        "\n",
        "    rf = RandomForestClassifier(n_estimators=186, min_samples_split=4, min_samples_leaf=3,max_features='log2',max_depth=i,bootstrap= True,random_state = 1200)\n",
        "    rf.fit(X_train, y_train)\n",
        "    test.append(rf.score(x_test,y_test))\n",
        "    train.append(rf.score(X_train,y_train))"
      ],
      "metadata": {
        "execution": {
          "iopub.status.busy": "2023-01-15T16:12:01.119318Z",
          "iopub.execute_input": "2023-01-15T16:12:01.119725Z",
          "iopub.status.idle": "2023-01-15T16:12:39.197241Z",
          "shell.execute_reply.started": "2023-01-15T16:12:01.119686Z",
          "shell.execute_reply": "2023-01-15T16:12:39.196002Z"
        },
        "trusted": true,
        "id": "dUFMftWzl3yP"
      },
      "execution_count": 21,
      "outputs": []
    },
    {
      "cell_type": "code",
      "source": [
        "# define data values\n",
        "y = [i for i in range(1,20)]\n",
        "plt.plot(y, test)  # Plot the chart (x, y)\n",
        "plt.plot(y, train)\n",
        "plt.vlines(x = 8,ymin = 0.6, ymax = 1,colors = 'black')\n",
        "plt.xlabel('Depth of the tree', fontsize=20)\n",
        "plt.ylabel('Score', fontsize=20)\n",
        "plt.show()\n",
        "# hence depth = 8"
      ],
      "metadata": {
        "execution": {
          "iopub.status.busy": "2023-01-15T16:12:39.198749Z",
          "iopub.execute_input": "2023-01-15T16:12:39.199354Z",
          "iopub.status.idle": "2023-01-15T16:12:39.424347Z",
          "shell.execute_reply.started": "2023-01-15T16:12:39.199315Z",
          "shell.execute_reply": "2023-01-15T16:12:39.423339Z"
        },
        "trusted": true,
        "id": "ctaA4HG2l3yP",
        "outputId": "4466a66f-c7a5-4d0a-f1ce-c333ae25ee37",
        "colab": {
          "base_uri": "https://localhost:8080/",
          "height": 463
        }
      },
      "execution_count": 22,
      "outputs": [
        {
          "output_type": "display_data",
          "data": {
            "text/plain": [
              "<Figure size 640x480 with 1 Axes>"
            ],
            "image/png": "[encoded data removed]"
          },
          "metadata": {}
        }
      ]
    },
    {
      "cell_type": "code",
      "source": [
        "# # replace the 1 and 0 by yes and no\n",
        "y_train.replace(to_replace=1, value = \"Yes\", inplace = True)\n",
        "y_train.replace(to_replace=0, value = \"No\", inplace = True)\n",
        "\n",
        "rf = RandomForestClassifier(n_estimators=186, min_samples_split=4, min_samples_leaf=3,max_features='log2',max_depth=8,bootstrap= True,random_state = 1200)\n",
        "rf.fit(X_train, y_train)\n",
        "\n",
        "y_pred_test = rf.predict(x_test) # predictions on validation test data\n",
        "\n",
        "print(\"Test Score\",rf.score(x_test,y_test))\n",
        "print(\"Train score:\",rf.score(X_train,y_train))\n",
        "precision,recall,fscore,support = score(y_test,y_pred_test,average = \"macro\")\n",
        "print('F1-score : {},'.format(fscore))"
      ],
      "metadata": {
        "execution": {
          "iopub.status.busy": "2023-01-15T16:12:39.425963Z",
          "iopub.execute_input": "2023-01-15T16:12:39.426328Z",
          "iopub.status.idle": "2023-01-15T16:12:41.269826Z",
          "shell.execute_reply.started": "2023-01-15T16:12:39.426291Z",
          "shell.execute_reply": "2023-01-15T16:12:41.268543Z"
        },
        "trusted": true,
        "id": "artEUI9zl3yP",
        "outputId": "62983564-b11e-4351-8613-1df1c09cdf5a",
        "colab": {
          "base_uri": "https://localhost:8080/"
        }
      },
      "execution_count": 23,
      "outputs": [
        {
          "output_type": "stream",
          "name": "stdout",
          "text": [
            "Test Score 0.6812008577555396\n",
            "Train score: 0.7378204473496068\n",
            "F1-score : 0.678717369901837,\n"
          ]
        }
      ]
    },
    {
      "cell_type": "code",
      "source": [
        "# View confusion matrix for test data and predictions\n",
        "print(confusion_matrix(y_test, y_pred_test))\n",
        "print()\n",
        "print(classification_report(y_test, y_pred_test))\n",
        "print()"
      ],
      "metadata": {
        "execution": {
          "iopub.status.busy": "2023-01-15T16:12:41.271636Z",
          "iopub.execute_input": "2023-01-15T16:12:41.272432Z",
          "iopub.status.idle": "2023-01-15T16:12:41.408274Z",
          "shell.execute_reply.started": "2023-01-15T16:12:41.272390Z",
          "shell.execute_reply": "2023-01-15T16:12:41.407082Z"
        },
        "trusted": true,
        "id": "Mq-SUddBl3yQ",
        "outputId": "6a54632d-6609-42ec-cfe5-c5b15609f9e2",
        "colab": {
          "base_uri": "https://localhost:8080/"
        }
      },
      "execution_count": 24,
      "outputs": [
        {
          "output_type": "stream",
          "name": "stdout",
          "text": [
            "[[1245  868]\n",
            " [ 470 1614]]\n",
            "\n",
            "              precision    recall  f1-score   support\n",
            "\n",
            "          No       0.73      0.59      0.65      2113\n",
            "         Yes       0.65      0.77      0.71      2084\n",
            "\n",
            "    accuracy                           0.68      4197\n",
            "   macro avg       0.69      0.68      0.68      4197\n",
            "weighted avg       0.69      0.68      0.68      4197\n",
            "\n",
            "\n"
          ]
        }
      ]
    },
    {
      "cell_type": "code",
      "source": [
        "# y_pred_test = rf.predict(x_test) # predictions on validation test data\n",
        "\n",
        "# predictions = rf.predict(given_test_data) # predictions on given test data\n",
        "#                             # not the splitted up test data from train set\n",
        "\n",
        "# submission = pd.DataFrame(columns=[\"id\", \"Offer Accepted\"])  # create an empty dataframe with two columns namely \"id\" and \"offer Accepted\"\n",
        "# submission[\"id\"] = [i for i in range(len(predictions))]  # id is nothing just serial number\n",
        "# submission[\"Offer Accepted\"] = predictions\n",
        "# submission.to_csv(\"submission.csv\",index = False)\n",
        "\n",
        "# # submission.head()"
      ],
      "metadata": {
        "execution": {
          "iopub.status.busy": "2023-01-15T16:12:41.409798Z",
          "iopub.execute_input": "2023-01-15T16:12:41.410726Z",
          "iopub.status.idle": "2023-01-15T16:12:41.417054Z",
          "shell.execute_reply.started": "2023-01-15T16:12:41.410676Z",
          "shell.execute_reply": "2023-01-15T16:12:41.415714Z"
        },
        "trusted": true,
        "id": "59JSGn2Al3yR"
      },
      "execution_count": 25,
      "outputs": []
    },
    {
      "cell_type": "markdown",
      "source": [
        "# Try different models"
      ],
      "metadata": {
        "id": "LX0-Dr8kl3yS"
      }
    },
    {
      "cell_type": "markdown",
      "source": [
        "### Gradient boost classifier"
      ],
      "metadata": {
        "execution": {
          "iopub.status.busy": "2022-09-23T18:42:18.970800Z",
          "iopub.execute_input": "2022-09-23T18:42:18.971122Z",
          "iopub.status.idle": "2022-09-23T18:42:18.980998Z",
          "shell.execute_reply.started": "2022-09-23T18:42:18.971092Z",
          "shell.execute_reply": "2022-09-23T18:42:18.979805Z"
        },
        "id": "TgZKxldUl3yS"
      }
    },
    {
      "cell_type": "code",
      "source": [
        "y_train.replace(to_replace=1, value = \"Yes\", inplace = True)\n",
        "y_train.replace(to_replace=0, value = \"No\", inplace = True)\n",
        "\n",
        "gbc = GradientBoostingClassifier(random_state = 1200)  # train a dummy model with default parameter\n",
        "gbc.fit(X_train,y_train)\n",
        "\n",
        "y_pred_test = gbc.predict(x_test) # predictions on validation test data\n",
        "\n",
        "print(\"Test Score\",gbc.score(x_test,y_test))\n",
        "print(\"Train score:\",gbc.score(X_train,y_train))\n",
        "precision,recall,fscore,support = score(y_test,y_pred_test,average = \"macro\")\n",
        "print('F1-score : {},'.format(fscore))"
      ],
      "metadata": {
        "execution": {
          "iopub.status.busy": "2023-01-15T16:12:41.419197Z",
          "iopub.execute_input": "2023-01-15T16:12:41.419728Z",
          "iopub.status.idle": "2023-01-15T16:12:44.009867Z",
          "shell.execute_reply.started": "2023-01-15T16:12:41.419632Z",
          "shell.execute_reply": "2023-01-15T16:12:44.008649Z"
        },
        "trusted": true,
        "id": "iENNFh_Ul3yT",
        "outputId": "431492f0-79bf-4320-8875-30827cc2429b",
        "colab": {
          "base_uri": "https://localhost:8080/"
        }
      },
      "execution_count": 26,
      "outputs": [
        {
          "output_type": "stream",
          "name": "stdout",
          "text": [
            "Test Score 0.6745294257803193\n",
            "Train score: 0.6956388520069452\n",
            "F1-score : 0.6712529118228034,\n"
          ]
        }
      ]
    },
    {
      "cell_type": "code",
      "source": [
        "# get an idea of the parameter which gave a test score of 0.67998\n",
        "gbc.get_params(deep = True)"
      ],
      "metadata": {
        "execution": {
          "iopub.status.busy": "2023-01-15T16:12:44.013755Z",
          "iopub.execute_input": "2023-01-15T16:12:44.014071Z",
          "iopub.status.idle": "2023-01-15T16:12:44.022484Z",
          "shell.execute_reply.started": "2023-01-15T16:12:44.014041Z",
          "shell.execute_reply": "2023-01-15T16:12:44.021344Z"
        },
        "trusted": true,
        "id": "JT_1pa0-l3yT",
        "outputId": "ad184e8e-614f-4d21-f6fd-166fe860e0fb",
        "colab": {
          "base_uri": "https://localhost:8080/"
        }
      },
      "execution_count": 27,
      "outputs": [
        {
          "output_type": "execute_result",
          "data": {
            "text/plain": [
              "{'ccp_alpha': 0.0,\n",
              " 'criterion': 'friedman_mse',\n",
              " 'init': None,\n",
              " 'learning_rate': 0.1,\n",
              " 'loss': 'log_loss',\n",
              " 'max_depth': 3,\n",
              " 'max_features': None,\n",
              " 'max_leaf_nodes': None,\n",
              " 'min_impurity_decrease': 0.0,\n",
              " 'min_samples_leaf': 1,\n",
              " 'min_samples_split': 2,\n",
              " 'min_weight_fraction_leaf': 0.0,\n",
              " 'n_estimators': 100,\n",
              " 'n_iter_no_change': None,\n",
              " 'random_state': 1200,\n",
              " 'subsample': 1.0,\n",
              " 'tol': 0.0001,\n",
              " 'validation_fraction': 0.1,\n",
              " 'verbose': 0,\n",
              " 'warm_start': False}"
            ]
          },
          "metadata": {},
          "execution_count": 27
        }
      ]
    },
    {
      "cell_type": "code",
      "source": [
        "# # narrow down the hyperparameters with gridsearchcv\n",
        "# grid_param = {\n",
        "#     \"n_estimators\":[int(x) for x in np.linspace(start = 75, stop = 800, num = 30)],\n",
        "#     \"max_depth\":[int(x) for x in np.linspace(2,6, num = 5)],\n",
        "#     \"learning_rate\":[0.01,0.1,1]\n",
        "#              }\n",
        "\n",
        "# RScv = RandomizedSearchCV(n_iter = 10 , estimator = gbc,param_distributions = grid_param,cv=5, verbose=1)\n",
        "# RScv.fit(X_train,y_train)\n",
        "\n",
        "# RScv.best_params_"
      ],
      "metadata": {
        "execution": {
          "iopub.status.busy": "2023-01-15T16:12:44.024024Z",
          "iopub.execute_input": "2023-01-15T16:12:44.026141Z",
          "iopub.status.idle": "2023-01-15T16:12:44.033719Z",
          "shell.execute_reply.started": "2023-01-15T16:12:44.026098Z",
          "shell.execute_reply": "2023-01-15T16:12:44.032710Z"
        },
        "trusted": true,
        "id": "ZxPGnB8Nl3yU"
      },
      "execution_count": 28,
      "outputs": []
    },
    {
      "cell_type": "code",
      "source": [
        "gbc = GradientBoostingClassifier(n_estimators = 500, max_depth = 3, learning_rate=0.1,random_state = 1200)\n",
        "gbc.fit(X_train,y_train)\n",
        "\n",
        "y_pred_test = gbc.predict(x_test) # predictions on validation test data\n",
        "\n",
        "print(\"Test Score\",gbc.score(x_test,y_test))\n",
        "print(\"Train score:\",gbc.score(X_train,y_train))\n",
        "precision,recall,fscore,support = score(y_test,y_pred_test,average = \"macro\")\n",
        "print('F1-score : {},'.format(fscore))"
      ],
      "metadata": {
        "execution": {
          "iopub.status.busy": "2023-01-15T16:12:44.035473Z",
          "iopub.execute_input": "2023-01-15T16:12:44.036133Z",
          "iopub.status.idle": "2023-01-15T16:12:57.194509Z",
          "shell.execute_reply.started": "2023-01-15T16:12:44.036091Z",
          "shell.execute_reply": "2023-01-15T16:12:57.193465Z"
        },
        "trusted": true,
        "id": "L0dnAHt0l3yV",
        "outputId": "b452ada8-c564-4df9-d6e6-c0c42a3c803e",
        "colab": {
          "base_uri": "https://localhost:8080/"
        }
      },
      "execution_count": 29,
      "outputs": [
        {
          "output_type": "stream",
          "name": "stdout",
          "text": [
            "Test Score 0.6761972837741244\n",
            "Train score: 0.7674394852415484\n",
            "F1-score : 0.673903494416098,\n"
          ]
        }
      ]
    },
    {
      "cell_type": "markdown",
      "source": [
        "### XGboost classifier"
      ],
      "metadata": {
        "id": "fxfuBG-Pl3yV"
      }
    },
    {
      "cell_type": "code",
      "source": [
        "y_train.replace(to_replace=\"Yes\", value = 1, inplace = True)\n",
        "y_train.replace(to_replace=\"No\", value = 0, inplace = True)\n",
        "\n",
        "y_test.replace(to_replace=\"Yes\", value = 1, inplace = True)\n",
        "y_test.replace(to_replace=\"No\", value = 0, inplace = True)\n",
        "\n",
        "xgb = XGBClassifier(random_state = 1200) # run a dummy model with default parameters\n",
        "xgb.fit(X_train,y_train)\n",
        "y_pred_test = xgb.predict(x_test)\n",
        "print(\"Test Score:\", xgb.score(x_test,y_test))\n",
        "print(\"Train Score:\", xgb.score(X_train,y_train))\n",
        "\n",
        "precision,recall,fscore,support = score(y_test,y_pred_test,average = \"macro\")\n",
        "print('F1-score : {}'.format(fscore))"
      ],
      "metadata": {
        "execution": {
          "iopub.status.busy": "2023-01-15T16:12:57.196708Z",
          "iopub.execute_input": "2023-01-15T16:12:57.197406Z",
          "iopub.status.idle": "2023-01-15T16:13:00.148897Z",
          "shell.execute_reply.started": "2023-01-15T16:12:57.197365Z",
          "shell.execute_reply": "2023-01-15T16:13:00.147845Z"
        },
        "trusted": true,
        "id": "9zkrNd9Bl3yW",
        "outputId": "ae305577-7321-4c11-8bd4-de4f5b5fb834",
        "colab": {
          "base_uri": "https://localhost:8080/"
        }
      },
      "execution_count": 30,
      "outputs": [
        {
          "output_type": "stream",
          "name": "stdout",
          "text": [
            "Test Score: 0.6573743149868954\n",
            "Train Score: 0.9203350015320192\n",
            "F1-score : 0.6563332363026101\n"
          ]
        }
      ]
    },
    {
      "cell_type": "markdown",
      "source": [
        "## tune hyperparameters for xgboost"
      ],
      "metadata": {
        "id": "ZmmScsSxl3yW"
      }
    },
    {
      "cell_type": "code",
      "source": [
        "# param_test1 = {\n",
        "#     'learning_rate':[0.01, 0.1, 1, 10],\n",
        "#      'n_estimators' : [int(x) for x in np.linspace(start = 100, stop = 1000, num = 7)],\n",
        "#      'max_depth': [3,4,5,7,9,10],\n",
        "#      'min_child_weight':range(1,6,2)\n",
        "# }\n",
        "# gsearch1 = RandomizedSearchCV(estimator = xgb,n_iter = 100, param_distributions = param_test1,cv =2 , verbose = 2)\n",
        "\n",
        "# gsearch1.fit(X_train,y_train)"
      ],
      "metadata": {
        "execution": {
          "iopub.status.busy": "2023-01-15T16:13:00.152958Z",
          "iopub.execute_input": "2023-01-15T16:13:00.155373Z",
          "iopub.status.idle": "2023-01-15T16:13:00.162172Z",
          "shell.execute_reply.started": "2023-01-15T16:13:00.155319Z",
          "shell.execute_reply": "2023-01-15T16:13:00.160710Z"
        },
        "trusted": true,
        "id": "JG4wKm-ql3yX"
      },
      "execution_count": 31,
      "outputs": []
    },
    {
      "cell_type": "code",
      "source": [
        "# gsearch1.best_params_"
      ],
      "metadata": {
        "execution": {
          "iopub.status.busy": "2023-01-15T16:13:00.168632Z",
          "iopub.execute_input": "2023-01-15T16:13:00.168967Z",
          "iopub.status.idle": "2023-01-15T16:13:00.173256Z",
          "shell.execute_reply.started": "2023-01-15T16:13:00.168936Z",
          "shell.execute_reply": "2023-01-15T16:13:00.171968Z"
        },
        "trusted": true,
        "id": "DaPd0ftgl3yX"
      },
      "execution_count": 32,
      "outputs": []
    },
    {
      "cell_type": "code",
      "source": [
        "xgb = XGBClassifier(learning_rate =0.1, n_estimators=500, max_depth = 3,min_child_weight= 1,random_state = 42)\n",
        "# train the model using best hyperparameters\n",
        "xgb.fit(X_train,y_train)\n",
        "\n",
        "y_pred_test = xgb.predict(x_test)\n",
        "\n",
        "print(\"Test Accuracy Score:\", xgb.score(x_test,y_test))\n",
        "print(\"Train Accuracy Score:\", xgb.score(X_train,y_train))\n",
        "\n",
        "\n",
        "precision,recall,fscore,support = score(y_test,y_pred_test,average = \"macro\")\n",
        "print('F1-score : {}'.format(fscore))"
      ],
      "metadata": {
        "execution": {
          "iopub.status.busy": "2023-01-15T16:13:00.175049Z",
          "iopub.execute_input": "2023-01-15T16:13:00.175414Z",
          "iopub.status.idle": "2023-01-15T16:13:08.135560Z",
          "shell.execute_reply.started": "2023-01-15T16:13:00.175379Z",
          "shell.execute_reply": "2023-01-15T16:13:08.134015Z"
        },
        "trusted": true,
        "id": "0fH4NlpNl3yX",
        "outputId": "34324116-6b50-4e68-a16f-95e169616607",
        "colab": {
          "base_uri": "https://localhost:8080/"
        }
      },
      "execution_count": 33,
      "outputs": [
        {
          "output_type": "stream",
          "name": "stdout",
          "text": [
            "Test Accuracy Score: 0.6750059566356922\n",
            "Train Accuracy Score: 0.7518128893882137\n",
            "F1-score : 0.6724742096757141\n"
          ]
        }
      ]
    },
    {
      "cell_type": "code",
      "source": [
        "print(classification_report(y_test, y_pred_test))"
      ],
      "metadata": {
        "execution": {
          "iopub.status.busy": "2023-01-15T16:13:08.139493Z",
          "iopub.execute_input": "2023-01-15T16:13:08.141862Z",
          "iopub.status.idle": "2023-01-15T16:13:08.159708Z",
          "shell.execute_reply.started": "2023-01-15T16:13:08.141825Z",
          "shell.execute_reply": "2023-01-15T16:13:08.158331Z"
        },
        "trusted": true,
        "id": "7LeEv1pgl3yY",
        "outputId": "364551b6-417d-48f1-eedb-7fde02e02a41",
        "colab": {
          "base_uri": "https://localhost:8080/"
        }
      },
      "execution_count": 34,
      "outputs": [
        {
          "output_type": "stream",
          "name": "stdout",
          "text": [
            "              precision    recall  f1-score   support\n",
            "\n",
            "           0       0.72      0.58      0.64      2113\n",
            "           1       0.65      0.77      0.70      2084\n",
            "\n",
            "    accuracy                           0.68      4197\n",
            "   macro avg       0.68      0.68      0.67      4197\n",
            "weighted avg       0.68      0.68      0.67      4197\n",
            "\n"
          ]
        }
      ]
    },
    {
      "cell_type": "code",
      "source": [
        "# submission"
      ],
      "metadata": {
        "execution": {
          "iopub.status.busy": "2023-01-15T16:13:08.161428Z",
          "iopub.execute_input": "2023-01-15T16:13:08.161865Z",
          "iopub.status.idle": "2023-01-15T16:13:08.166883Z",
          "shell.execute_reply.started": "2023-01-15T16:13:08.161828Z",
          "shell.execute_reply": "2023-01-15T16:13:08.165872Z"
        },
        "trusted": true,
        "id": "S86Dl6mZl3yY"
      },
      "execution_count": 35,
      "outputs": []
    }
  ]
}